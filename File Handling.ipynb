{
 "cells": [
  {
   "cell_type": "code",
   "execution_count": 17,
   "id": "a38d1676",
   "metadata": {},
   "outputs": [
    {
     "name": "stdout",
     "output_type": "stream",
     "text": [
      "What is Python language?\n",
      "                                               \n",
      "Python is a widely used high-level, general-purpose, interpreted, dynamic programming language.\n",
      "\n",
      "Its design philosophy emphasizes code readability, and its syntax allows programmers to express concepts in fewer lines of code than possible in languages such as C++ or Java. \n",
      "\n",
      "Python supports multiple programming paradigms, including object-oriented, imperative and functional programming or procedural styles. \n",
      "\n",
      "It features a dynamic type system and automatic memory management and has a large and comprehensive standard library.\n",
      "\n",
      "The best way we learn anything is by practice and exercise questions. We have started this section for those (beginner to intermediate) who are familiar with Python.\n"
     ]
    }
   ],
   "source": [
    "# Question 1\n",
    "# Write a Python program to read an entire text file.\n",
    "\n",
    "file = open(\"C:\\\\Users\\owner\\Downloads\\python.txt\", \"r\")\n",
    "print(file.read())"
   ]
  },
  {
   "cell_type": "code",
   "execution_count": 37,
   "id": "9f875fd8",
   "metadata": {},
   "outputs": [
    {
     "name": "stdout",
     "output_type": "stream",
     "text": [
      "What is Python language?                                        \n",
      "\n",
      "Python is a widely used high-level, general-purpose, interpreted, dynamic programming language.\n",
      "\n"
     ]
    }
   ],
   "source": [
    "# Question 2\n",
    "# Write a Python program to read first n lines of a file.\n",
    "\n",
    "def firstnlines(fname, n):\n",
    "        from itertools import islice\n",
    "        with open('C:\\\\Users\\owner\\Downloads\\python.txt','r') as f:\n",
    "                for line in islice(f, n):\n",
    "                        print(line)\n",
    "firstnlines('python.txt',2)"
   ]
  },
  {
   "cell_type": "code",
   "execution_count": 62,
   "id": "3ddcfd98",
   "metadata": {},
   "outputs": [
    {
     "name": "stdout",
     "output_type": "stream",
     "text": [
      "100\n"
     ]
    }
   ],
   "source": [
    "# Question 3\n",
    "# Write a Python program that takes a text file as input and returns the number of words of a given text file.\n",
    "\n",
    "with open('C:\\\\Users\\owner\\Downloads\\python.txt','r+') as f:\n",
    "    lines=f.read()\n",
    "    words=lines.split()\n",
    "    print(len(words))"
   ]
  },
  {
   "cell_type": "code",
   "execution_count": 73,
   "id": "dc9a852b",
   "metadata": {},
   "outputs": [
    {
     "name": "stdout",
     "output_type": "stream",
     "text": [
      "100\n"
     ]
    }
   ],
   "source": [
    "# Question 3\n",
    "# Write a Python program that takes a text file as input and returns the number of words of a given text file.\n",
    "\n",
    "file = open('C:\\\\Users\\owner\\Downloads\\python.txt','r')\n",
    "numw=0\n",
    "for line in file:\n",
    "    words= line.split()\n",
    "    numw = numw + len(words)\n",
    "print(numw)"
   ]
  },
  {
   "cell_type": "code",
   "execution_count": 26,
   "id": "72dffcaa",
   "metadata": {},
   "outputs": [
    {
     "name": "stdout",
     "output_type": "stream",
     "text": [
      "Python supports multiple programming paradigms, including object-oriented, imperative and functional programming or procedural styles. \n",
      "\n",
      "It features a dynamic type system and automatic memory management and has a large and comprehensive standard library.\n",
      "\n",
      "The best way we learn anything is by practice and exercise questions. We have started this section for those (beginner to intermediate) who are familiar with Python.\n"
     ]
    }
   ],
   "source": [
    "# Question 4\n",
    "# Write a Python program to read last n lines of a file\n",
    "\n",
    "def read_lastnlines(fname,n):\n",
    "    with open('C:\\\\Users\\owner\\Downloads\\python.txt','r') as f:\n",
    "        for line in (f.readlines() [-n:]):\n",
    "            print(line)\n",
    "\n",
    "read_lastnlines('python.txt',3)"
   ]
  },
  {
   "cell_type": "code",
   "execution_count": null,
   "id": "4d65f8ec",
   "metadata": {},
   "outputs": [],
   "source": []
  }
 ],
 "metadata": {
  "kernelspec": {
   "display_name": "Python 3 (ipykernel)",
   "language": "python",
   "name": "python3"
  },
  "language_info": {
   "codemirror_mode": {
    "name": "ipython",
    "version": 3
   },
   "file_extension": ".py",
   "mimetype": "text/x-python",
   "name": "python",
   "nbconvert_exporter": "python",
   "pygments_lexer": "ipython3",
   "version": "3.9.7"
  }
 },
 "nbformat": 4,
 "nbformat_minor": 5
}
